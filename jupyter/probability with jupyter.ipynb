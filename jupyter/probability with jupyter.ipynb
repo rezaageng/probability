{
 "cells": [
  {
   "cell_type": "markdown",
   "id": "2ed71669",
   "metadata": {},
   "source": [
    "# Latihan statistika dg jupyter notebook"
   ]
  },
  {
   "cell_type": "code",
   "execution_count": 61,
   "id": "815019c7",
   "metadata": {},
   "outputs": [],
   "source": [
    "import pandas as pd\n",
    "import matplotlib.pyplot as plt\n",
    "import numpy as np\n",
    "from scipy.stats import norm"
   ]
  },
  {
   "cell_type": "code",
   "execution_count": 62,
   "id": "4072a453",
   "metadata": {},
   "outputs": [
    {
     "name": "stdout",
     "output_type": "stream",
     "text": [
      "[3, 2, 4, 5]\n"
     ]
    }
   ],
   "source": [
    "data = [3,2,4,5]\n",
    "print(data)\n"
   ]
  },
  {
   "cell_type": "code",
   "execution_count": 63,
   "id": "e6ffb855",
   "metadata": {
    "scrolled": true
   },
   "outputs": [
    {
     "data": {
      "text/html": [
       "<div>\n",
       "<style scoped>\n",
       "    .dataframe tbody tr th:only-of-type {\n",
       "        vertical-align: middle;\n",
       "    }\n",
       "\n",
       "    .dataframe tbody tr th {\n",
       "        vertical-align: top;\n",
       "    }\n",
       "\n",
       "    .dataframe thead th {\n",
       "        text-align: right;\n",
       "    }\n",
       "</style>\n",
       "<table border=\"1\" class=\"dataframe\">\n",
       "  <thead>\n",
       "    <tr style=\"text-align: right;\">\n",
       "      <th></th>\n",
       "      <th>Nilai</th>\n",
       "    </tr>\n",
       "  </thead>\n",
       "  <tbody>\n",
       "    <tr>\n",
       "      <th>0</th>\n",
       "      <td>3</td>\n",
       "    </tr>\n",
       "    <tr>\n",
       "      <th>1</th>\n",
       "      <td>2</td>\n",
       "    </tr>\n",
       "    <tr>\n",
       "      <th>2</th>\n",
       "      <td>4</td>\n",
       "    </tr>\n",
       "    <tr>\n",
       "      <th>3</th>\n",
       "      <td>5</td>\n",
       "    </tr>\n",
       "  </tbody>\n",
       "</table>\n",
       "</div>"
      ],
      "text/plain": [
       "   Nilai\n",
       "0      3\n",
       "1      2\n",
       "2      4\n",
       "3      5"
      ]
     },
     "execution_count": 63,
     "metadata": {},
     "output_type": "execute_result"
    }
   ],
   "source": [
    "df = pd.DataFrame(data, columns=['Nilai'])\n",
    "df"
   ]
  },
  {
   "cell_type": "code",
   "execution_count": 64,
   "id": "3be447ab",
   "metadata": {},
   "outputs": [
    {
     "name": "stdout",
     "output_type": "stream",
     "text": [
      "       x\n",
      "0    2.5\n",
      "1    3.1\n",
      "2    3.3\n",
      "3    3.6\n",
      "4    3.8\n",
      "..   ...\n",
      "95  13.3\n",
      "96  13.4\n",
      "97  13.5\n",
      "98  13.6\n",
      "99  13.7\n",
      "\n",
      "[100 rows x 1 columns]\n"
     ]
    }
   ],
   "source": [
    "df2 = pd.read_csv('data_sample.csv')\n",
    "print(df2)"
   ]
  },
  {
   "cell_type": "code",
   "execution_count": 65,
   "id": "26ef7b18",
   "metadata": {},
   "outputs": [
    {
     "name": "stdout",
     "output_type": "stream",
     "text": [
      "Jumlah total data =  870.4\n"
     ]
    }
   ],
   "source": [
    "# total jumlah \n",
    "jumlah_total = df2['x'].sum()\n",
    "print(\"Jumlah total data = \", jumlah_total)"
   ]
  },
  {
   "cell_type": "code",
   "execution_count": 66,
   "id": "76bd1871",
   "metadata": {},
   "outputs": [
    {
     "name": "stdout",
     "output_type": "stream",
     "text": [
      "mean =  8.704\n"
     ]
    }
   ],
   "source": [
    "# mean\n",
    "mean = df2['x'].mean()\n",
    "print('mean = ', mean)"
   ]
  },
  {
   "cell_type": "code",
   "execution_count": 67,
   "id": "76ebf704",
   "metadata": {},
   "outputs": [
    {
     "name": "stdout",
     "output_type": "stream",
     "text": [
      "x    8.75\n",
      "dtype: float64\n"
     ]
    }
   ],
   "source": [
    "# median\n",
    "median = df2.median()\n",
    "print(median)"
   ]
  },
  {
   "cell_type": "code",
   "execution_count": 68,
   "id": "267d2e1e",
   "metadata": {},
   "outputs": [
    {
     "name": "stdout",
     "output_type": "stream",
     "text": [
      "0      2.5\n",
      "1      3.1\n",
      "2      3.3\n",
      "3      3.6\n",
      "4      3.8\n",
      "      ... \n",
      "95    13.3\n",
      "96    13.4\n",
      "97    13.5\n",
      "98    13.6\n",
      "99    13.7\n",
      "Name: x, Length: 100, dtype: float64\n"
     ]
    }
   ],
   "source": [
    "# modus\n",
    "modus = df2['x'].mode()\n",
    "print(modus)"
   ]
  },
  {
   "cell_type": "code",
   "execution_count": 69,
   "id": "d5becc20",
   "metadata": {},
   "outputs": [
    {
     "name": "stdout",
     "output_type": "stream",
     "text": [
      "x    8.887661\n",
      "dtype: float64\n"
     ]
    }
   ],
   "source": [
    "# varian\n",
    "var = df2.var()\n",
    "print(var)"
   ]
  },
  {
   "cell_type": "code",
   "execution_count": 70,
   "id": "57d3f48e",
   "metadata": {},
   "outputs": [
    {
     "name": "stdout",
     "output_type": "stream",
     "text": [
      "x    2.981218\n",
      "dtype: float64\n"
     ]
    }
   ],
   "source": [
    "# standard deviasi\n",
    "std_dev = df2.std()\n",
    "print(std_dev)"
   ]
  },
  {
   "cell_type": "code",
   "execution_count": 71,
   "id": "e45cc8f1",
   "metadata": {},
   "outputs": [
    {
     "name": "stdout",
     "output_type": "stream",
     "text": [
      "[0.86649438]\n"
     ]
    }
   ],
   "source": [
    "# distribusi normal\n",
    "probability = 1 - norm.pdf(8.5, loc = mean, scale = std_dev)\n",
    "print(probability)"
   ]
  },
  {
   "cell_type": "code",
   "execution_count": 72,
   "id": "4b8400cd",
   "metadata": {},
   "outputs": [
    {
     "data": {
      "image/png": "[encoded data removed]",
      "text/plain": [
       "<Figure size 640x480 with 1 Axes>"
      ]
     },
     "metadata": {},
     "output_type": "display_data"
    }
   ],
   "source": [
    "np.random.seed(0)\n",
    "data = np.random.normal(loc=5, scale=2, size=10000)\n",
    "\n",
    "mean = np.mean(data)\n",
    "std_dev = np.std(data)\n",
    "\n",
    "\n",
    "x = np.linspace(mean - 4 * std_dev, mean + 4 * std_dev, 100)\n",
    "\n",
    "pdf = norm.pdf(x, mean, std_dev)\n",
    "\n",
    "\n",
    "plt.plot(x, pdf)\n",
    "\n",
    "x_fill = np.linspace(8.5, mean + 4 * std_dev, 100)\n",
    "plt.fill_between(x_fill, norm.pdf(x_fill, mean, std_dev), alpha=0.3, color='red')\n",
    "\n",
    "plt.show()\n",
    "\n"
   ]
  },
  {
   "cell_type": "code",
   "execution_count": null,
   "id": "780cfbcd",
   "metadata": {},
   "outputs": [],
   "source": []
  },
  {
   "cell_type": "code",
   "execution_count": null,
   "id": "0d72d534",
   "metadata": {},
   "outputs": [],
   "source": []
  }
 ],
 "metadata": {
  "kernelspec": {
   "display_name": "Python 3 (ipykernel)",
   "language": "python",
   "name": "python3"
  },
  "language_info": {
   "codemirror_mode": {
    "name": "ipython",
    "version": 3
   },
   "file_extension": ".py",
   "mimetype": "text/x-python",
   "name": "python",
   "nbconvert_exporter": "python",
   "pygments_lexer": "ipython3",
   "version": "3.10.9"
  }
 },
 "nbformat": 4,
 "nbformat_minor": 5
}
